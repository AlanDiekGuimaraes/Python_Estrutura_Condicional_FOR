{
 "cells": [
  {
   "cell_type": "markdown",
   "metadata": {
    "id": "v58022qv8NFc"
   },
   "source": []
  },
  {
   "cell_type": "markdown",
   "metadata": {
    "id": "nT_vmXpp8UD0"
   },
   "source": []
  },
  {
   "cell_type": "markdown",
   "metadata": {
    "id": "q-zRzGdJ81t6"
   },
   "source": [
    "14 - Faça um programa que peça 10 números inteiros, calcule e mostre a quantidade de números pares e a quantidade de números impares."
   ]
  },
  {
   "cell_type": "code",
   "execution_count": 3,
   "metadata": {
    "colab": {
     "base_uri": "https://localhost:8080/"
    },
    "executionInfo": {
     "elapsed": 11366,
     "status": "ok",
     "timestamp": 1708288736027,
     "user": {
      "displayName": "Alan Diek Guimarães",
      "userId": "14723038698467659112"
     },
     "user_tz": 180
    },
    "id": "lsV1dZyndRQo",
    "outputId": "b5b66b37-5cc3-441c-94e9-368d76b7e23a"
   },
   "outputs": [
    {
     "name": "stdout",
     "output_type": "stream",
     "text": [
      "Digite o 1º número 0\n",
      "Digite o 2º número 0\n",
      "Digite o 3º número 0\n",
      "Digite o 4º número 0\n",
      "Digite o 5º número 0\n",
      "Digite o 6º número 0\n",
      "Digite o 7º número 0\n",
      "Digite o 8º número 0\n",
      "Digite o 9º número 0\n",
      "Digite o 10º número 0\n",
      "Números pares = 10\n",
      "Números impares = 0\n"
     ]
    }
   ],
   "source": [
    "pares = 0\n",
    "impares = 0\n",
    "\n",
    "for contador in range (1,11):\n",
    "  numero = int(input(f\"Digite o {contador}º número \"))\n",
    "  if numero % 2 == 1:   #Verifica se o numero dividido por 2 tem o resto igual a 1, se sim ele é impar. para verificar se os numeros eram pares usaria ( if numero % 2 == 0:)\n",
    "    impares  += 1       # incrementa a contagem dos numeros impares\n",
    "  else:\n",
    "    pares += 1\n",
    "print(f'''Números pares = {pares}\n",
    "Números impares = {impares}''')"
   ]
  },
  {
   "cell_type": "markdown",
   "metadata": {
    "id": "X3IFNA0G9Ere"
   },
   "source": [
    "11. Um funcionário de uma empresa recebe aumento salarial anualmente:\n",
    "\n",
    "Sabe-se que:\n",
    "\n",
    "Esse funcionário foi contratado em 1995, com salário inicial de R$ 1.000,00;\n",
    "\n",
    "Em 1996 recebeu aumento de 1,5% sobre seu salário inicial;\n",
    "\n",
    "A partir de 1997 (inclusive), os aumentos salariais sempre correspondem ao\n",
    "dobro do percentual do ano anterior. Faça um programa que determine o\n",
    "salário atual desse funcionário. Após concluir isto, altere o programa permitindo que o usuário digite o salário inicial do funcionário.\n"
   ]
  },
  {
   "cell_type": "code",
   "execution_count": 11,
   "metadata": {
    "colab": {
     "base_uri": "https://localhost:8080/"
    },
    "executionInfo": {
     "elapsed": 4190,
     "status": "ok",
     "timestamp": 1708120082797,
     "user": {
      "displayName": "Alan Diek Guimarães",
      "userId": "14723038698467659112"
     },
     "user_tz": 180
    },
    "id": "Yh-eTOY6fBAU",
    "outputId": "169cdd18-ee60-48d5-8aea-060473983522"
   },
   "outputs": [
    {
     "name": "stdout",
     "output_type": "stream",
     "text": [
      "Digite o salario inicial do funcionario:1\n",
      "Salario em 2024 = 64780166694621041770506486730748940573043905995929564899247622924186706509824.00 \n"
     ]
    }
   ],
   "source": [
    "salario = float(input(\"Digite o salario inicial do funcionario:\")) \n",
    "percentual = 0.015 \n",
    "\n",
    "for i in range(1996, 2025): \n",
    "    aumento = salario * percentual \n",
    "salario += aumento\n",
    "percentual *= 2\n",
    "print(f\"Salario em {i} = {salario:.2f} \")"
   ]
  },
  {
   "cell_type": "markdown",
   "metadata": {
    "id": "GKcu83My9aHx"
   },
   "source": [
    "12. Faça um programa que peça uma nota, entre zero e dez. Mostre uma mensagem caso o valor seja inválido e continue pedindo até que o usuário informe um valor válido.\n"
   ]
  },
  {
   "cell_type": "code",
   "execution_count": 22,
   "metadata": {
    "colab": {
     "base_uri": "https://localhost:8080/"
    },
    "executionInfo": {
     "elapsed": 4204,
     "status": "ok",
     "timestamp": 1708096836582,
     "user": {
      "displayName": "Alan Diek Guimarães",
      "userId": "14723038698467659112"
     },
     "user_tz": 180
    },
    "id": "SptuHM-pfTuq",
    "outputId": "d13ce90f-cfec-4bea-b08f-37c3293ff6fb"
   },
   "outputs": [
    {
     "name": "stdout",
     "output_type": "stream",
     "text": [
      "Digite uma nota entre 0 e 10 0\n",
      "O valor digotado foi 0\n"
     ]
    }
   ],
   "source": [
    "nota = int(input(\"Digite uma nota entre 0 e 10 \"))\n",
    "\n",
    "while nota < 0 or nota > 10:\n",
    "  print(\"Valor invalido\")\n",
    "  nota = int(input(\"Digite uma nota entre 0 e 10 \"))\n",
    "print(f\"O valor digotado foi {nota}\")"
   ]
  },
  {
   "cell_type": "markdown",
   "metadata": {
    "id": "9Voqry4P9efP"
   },
   "source": [
    "13. Uma loja tem tem uma política de descontos de acordo com o valor da compra do cliente. Os descontos começam acima dos R$500. \n",
    "\n",
    "A cada 100 reais acima dos R$500,00 o cliente ganha 1% de desconto cumulativo até 25%.\n",
    "\n",
    "Por exemplo: R$500 = 1% || R$600,00 = 2% ... etc...\n",
    "\n",
    "Faça um programa que exiba essa tabela de descontos no seguinte formato: Valordacompra – porcentagem de desconto – valor final\n"
   ]
  },
  {
   "cell_type": "code",
   "execution_count": 24,
   "metadata": {
    "colab": {
     "base_uri": "https://localhost:8080/"
    },
    "executionInfo": {
     "elapsed": 281,
     "status": "ok",
     "timestamp": 1708120186225,
     "user": {
      "displayName": "Alan Diek Guimarães",
      "userId": "14723038698467659112"
     },
     "user_tz": 180
    },
    "id": "5P7jw3Oagc6S",
    "outputId": "7936aa23-39be-4497-a612-84da805116de"
   },
   "outputs": [
    {
     "name": "stdout",
     "output_type": "stream",
     "text": [
      "Digite o valor da compra: R$800\n",
      "O produto de R$800.00 ficará a partir de R$768.00 com 4% de desconto.\n"
     ]
    }
   ],
   "source": [
    "valor = float(input('Digite o valor da compra: R$'))\n",
    "contagem = 1\n",
    "if valor >= 600 and contagem:\n",
    "    reduzido = valor - 500\n",
    "    if reduzido >= 100 or contagem <= 24:\n",
    "        for x in range(999):\n",
    "            contagem += 1\n",
    "            reduzido -= 100\n",
    "            if reduzido < 100 or contagem == 24:\n",
    "                break\n",
    "porcentagem = contagem / 100\n",
    "desconto = valor * porcentagem\n",
    "final = valor - desconto\n",
    "print(f'O produto de R${valor:.2f} ficará a partir de R${final:.2f} com {contagem:.0f}% de desconto.')"
   ]
  },
  {
   "cell_type": "markdown",
   "metadata": {
    "id": "LGJ9J9el9jK3"
   },
   "source": [
    "14. Faça um programa que receba a idade de 15 pessoas e que calcule e mostre:\n",
    "\n",
    "a) A quantidade de pessoas em cada faixa etária;\n",
    "\n",
    "b) A percentagem de pessoas na primeira e na última faixa etária, com relação ao total de pessoas:\n",
    "\n",
    "Até 15 anos\n",
    "\n",
    "De 16 a 30 anos\n",
    "\n",
    "De 31 a 45 anos\n",
    "\n",
    "De 46 a 60 anos\n",
    "\n",
    "Acima de 61 anos"
   ]
  },
  {
   "cell_type": "code",
   "execution_count": null,
   "metadata": {
    "colab": {
     "base_uri": "https://localhost:8080/"
    },
    "executionInfo": {
     "elapsed": 4879,
     "status": "ok",
     "timestamp": 1708120303598,
     "user": {
      "displayName": "Alan Diek Guimarães",
      "userId": "14723038698467659112"
     },
     "user_tz": 180
    },
    "id": "alYEF4uZgv5K",
    "outputId": "96fb7fd3-a490-4588-a181-c36c98b14b44"
   },
   "outputs": [
    {
     "name": "stdout",
     "output_type": "stream",
     "text": [
      "Digite a 1ª idade 65\n",
      "\n",
      " 0 pessoas entre 0 a 15 anos\n",
      " 0 pessoas entre 16 e 30 anos\n",
      " 0 pessoas entre 31 e 45 anos\n",
      " 0 pessoas entre 46 e 60 anos\n",
      " 1 pessoas acima de 61 anos\n",
      "  \n",
      "\n",
      "A porcetagem de pessoas de 0 a 15 e maior de 60 anos é de 100.00%)\n"
     ]
    }
   ],
   "source": [
    "ate15 = 0\n",
    "de16a30 = 0\n",
    "de31a45 = 0\n",
    "de46a60 = 0\n",
    "maior60 = 0\n",
    "for contador in range(1,16):\n",
    "  idade = int(input(f\"Digite a {contador}ª idade \"))\n",
    "  if idade <= 15:\n",
    "    ate15 +=   1\n",
    "  elif idade >=16 and idade <=30:\n",
    "    de16a30 += 1\n",
    "  elif idade >= 31 and idade <=45:\n",
    "    de31a45 += 1\n",
    "  elif idade >=46 and idade <= 60:\n",
    "    de46a60 += 1\n",
    "  else:\n",
    "    maior60 += 1\n",
    "    #arrumar porcentagem\n",
    "porcentagem15 = (ate15/contador) * 100\n",
    "porcentagem60 = (maior60/contador) * 100\n",
    "print(f'''\n",
    " {ate15} pessoas entre 0 a 15 anos\n",
    " {de16a30} pessoas entre 16 e 30 anos\n",
    " {de31a45} pessoas entre 31 e 45 anos\n",
    " {de46a60} pessoas entre 46 e 60 anos\n",
    " {maior60} pessoas acima de 61 anos\n",
    "  ''')\n",
    "print(f'''\n",
    "\n",
    "A porcetagem de pessoas de 0 a 15 anos é de {porcentagem15:.2f}%\n",
    "A porcetagem de pessoas de 0 a 60 anos é de {porcentagem60:.2f}%\n",
    "\n",
    "''')"
   ]
  },
  {
   "cell_type": "markdown",
   "metadata": {
    "id": "9TnaXgDf9xCA"
   },
   "source": [
    "15. Faça um programa que peça dois números, base e expoente, calcule e mostre o primeiro número elevado ao segundo número. Não utilize a função de potência da linguagem.\n"
   ]
  },
  {
   "cell_type": "code",
   "execution_count": 19,
   "metadata": {
    "colab": {
     "base_uri": "https://localhost:8080/"
    },
    "executionInfo": {
     "elapsed": 4180,
     "status": "ok",
     "timestamp": 1708132087799,
     "user": {
      "displayName": "Alan Diek Guimarães",
      "userId": "14723038698467659112"
     },
     "user_tz": 180
    },
    "id": "z2FSJcpGg8bB",
    "outputId": "558459dd-be5d-4eac-c0ad-401fc509f3f8"
   },
   "outputs": [
    {
     "name": "stdout",
     "output_type": "stream",
     "text": [
      "Digite o valor base: 2\n",
      "Digite o expoente: 5\n",
      "Resultado 2\n",
      "Resultado 4\n",
      "Resultado 8\n",
      "Resultado 16\n",
      "Resultado 32\n"
     ]
    }
   ],
   "source": [
    "base = int(input(\"Digite o valor base: \"))\n",
    "expoente = int(input(\"Digite o expoente: \"))\n",
    "result = 1\n",
    "for i in range(expoente):\n",
    "    if base == 1:\n",
    "        result = base\n",
    "    else:\n",
    "        result *= base\n",
    "    print(f\"Resultado {result}\")"
   ]
  },
  {
   "cell_type": "markdown",
   "metadata": {
    "id": "MdCnnYrt92XN"
   },
   "source": [
    "16. Faça um programa que mostre todos os primos entre 1 e N sendo N um número inteiro fornecido pelo usuário. O programa deverá mostrar também o número de divisões que ele executou para encontrar os números primos. Serão avaliados o funcionamento, o estilo e o número de testes (divisões) executados.\n",
    "\n",
    "numero = int(input(\"Informe um número para mostrarmos os números primos entre 1 e o valor digitado\"))"
   ]
  },
  {
   "cell_type": "code",
   "execution_count": 25,
   "metadata": {
    "id": "B5q3naN3g-qx"
   },
   "outputs": [
    {
     "name": "stdout",
     "output_type": "stream",
     "text": [
      "Digite um número: 7\n",
      "1 / 1 = 1.0 com o resto 0\n",
      "número é primo\n",
      "\n",
      "2 / 1 = 2.0 com o resto 0\n",
      "2 / 2 = 1.0 com o resto 0\n",
      "número é primo\n",
      "\n",
      "3 / 1 = 3.0 com o resto 0\n",
      "3 / 2 = 1.5 com o resto 1\n",
      "3 / 3 = 1.0 com o resto 0\n",
      "número é primo\n",
      "\n",
      "4 / 1 = 4.0 com o resto 0\n",
      "4 / 2 = 2.0 com o resto 0\n",
      "não é primo\n",
      "\n",
      "5 / 1 = 5.0 com o resto 0\n",
      "5 / 2 = 2.5 com o resto 1\n",
      "5 / 3 = 1.6666666666666667 com o resto 2\n",
      "5 / 4 = 1.25 com o resto 1\n",
      "5 / 5 = 1.0 com o resto 0\n",
      "número é primo\n",
      "\n",
      "6 / 1 = 6.0 com o resto 0\n",
      "6 / 2 = 3.0 com o resto 0\n",
      "não é primo\n",
      "\n",
      "7 / 1 = 7.0 com o resto 0\n",
      "7 / 2 = 3.5 com o resto 1\n",
      "7 / 3 = 2.3333333333333335 com o resto 1\n",
      "7 / 4 = 1.75 com o resto 3\n",
      "7 / 5 = 1.4 com o resto 2\n",
      "7 / 6 = 1.1666666666666667 com o resto 1\n",
      "7 / 7 = 1.0 com o resto 0\n",
      "número é primo\n"
     ]
    }
   ],
   "source": [
    "n = int(input(\"Digite um número: \"))\n",
    "for numeroTestado in range(1, n+1):\n",
    "    for numeroDivisor in range(numeroTestado):\n",
    "        print(f\"{numeroTestado} / {numeroDivisor+1} = {numeroTestado /(numeroDivisor+1)} com o resto {numeroTestado%(numeroDivisor+1)}\")\n",
    "        if numeroTestado % (numeroDivisor+1) == 0:\n",
    "            if 1 != numeroDivisor+1 != numeroTestado:\n",
    "                print(\"não é primo\\n\")\n",
    "                break\n",
    "            elif numeroDivisor+1 == numeroTestado:\n",
    "                print(\"número é primo\\n\")"
   ]
  },
  {
   "cell_type": "code",
   "execution_count": null,
   "metadata": {},
   "outputs": [],
   "source": []
  }
 ],
 "metadata": {
  "colab": {
   "authorship_tag": "ABX9TyMZgpIcgNh9+JFZXjRu75+L",
   "provenance": []
  },
  "kernelspec": {
   "display_name": "Python 3 (ipykernel)",
   "language": "python",
   "name": "python3"
  },
  "language_info": {
   "codemirror_mode": {
    "name": "ipython",
    "version": 3
   },
   "file_extension": ".py",
   "mimetype": "text/x-python",
   "name": "python",
   "nbconvert_exporter": "python",
   "pygments_lexer": "ipython3",
   "version": "3.11.5"
  }
 },
 "nbformat": 4,
 "nbformat_minor": 1
}
