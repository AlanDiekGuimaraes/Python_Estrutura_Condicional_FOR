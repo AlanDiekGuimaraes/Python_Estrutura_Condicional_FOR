{
 "cells": [
  {
   "cell_type": "markdown",
   "metadata": {
    "id": "8hVkHbyLg66R"
   },
   "source": [
    "Estrutura de Repetição - for"
   ]
  }
 ],
 "metadata": {
  "colab": {
   "authorship_tag": "ABX9TyNrOzgDnZGozxRTlR6Ugz4I",
   "collapsed_sections": [
    "8hVkHbyLg66R",
    "lJhlXT-BdvzQ",
    "dGqIXndzhoBf"
   ],
   "provenance": [],
   "toc_visible": true
  },
  "kernelspec": {
   "display_name": "Python 3 (ipykernel)",
   "language": "python",
   "name": "python3"
  },
  "language_info": {
   "codemirror_mode": {
    "name": "ipython",
    "version": 3
   },
   "file_extension": ".py",
   "mimetype": "text/x-python",
   "name": "python",
   "nbconvert_exporter": "python",
   "pygments_lexer": "ipython3",
   "version": "3.11.7"
  }
 },
 "nbformat": 4,
 "nbformat_minor": 4
}
