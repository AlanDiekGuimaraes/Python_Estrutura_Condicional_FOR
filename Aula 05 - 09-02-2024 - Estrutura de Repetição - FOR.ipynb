{
 "cells": [
  {
   "cell_type": "markdown",
   "metadata": {
    "id": "8hVkHbyLg66R"
   },
   "source": [
    "Estrutura de Repetição - for"
   ]
  },
  {
   "cell_type": "markdown",
   "metadata": {
    "id": "lJhlXT-BdvzQ"
   },
   "source": [
    "**PseudoCódigo**\n",
    "\n",
    "x, r, cont = inteiro\n",
    "\n",
    "para contador de 1 ate 4 faca\n",
    "\n",
    "leia(x)\n",
    "r <- x*12\n",
    "escreva(r)\n",
    "fim para"
   ]
  },
  {
   "cell_type": "code",
   "execution_count": 1,
   "metadata": {
    "id": "cPr2HquyeTvs"
   },
   "outputs": [],
   "source": [
    "## Python\n",
    "# Faça um programa que receba 1 número e multiplique por 12\n",
    "for contador in range(1,5):\n",
    "  x = float(input(\"Digite um valor para multiplicar por 12 \"))\n",
    "  r = x*12\n",
    "  print(f\"A multiplicação é {r:.0f}\")"
   ]
  },
  {
   "cell_type": "code",
   "execution_count": 5,
   "metadata": {
    "colab": {
     "base_uri": "https://localhost:8080/"
    },
    "executionInfo": {
     "elapsed": 9803,
     "status": "ok",
     "timestamp": 1708036126569,
     "user": {
      "displayName": "Alan Diek Guimarães",
      "userId": "14723038698467659112"
     },
     "user_tz": 180
    },
    "id": "ohi6IdbM1cNi",
    "outputId": "56db879d-63f0-4435-9598-76a203588c38"
   },
   "outputs": [
    {
     "name": "stdout",
     "output_type": "stream",
     "text": [
      "Digite o 1º número 6\n",
      "O maior numero digitado é: 6.0\n",
      "Digite o 2º número 6\n",
      "O maior numero digitado é: 6.0\n",
      "Digite o 3º número 6\n",
      "O maior numero digitado é: 6.0\n",
      "Digite o 4º número 5\n",
      "O maior numero digitado é: 6.0\n",
      "Digite o 5º número 5\n",
      "O maior numero digitado é: 6.0\n"
     ]
    }
   ],
   "source": [
    "# Faça um programa que leia 5 números e informe o maior número.\n",
    "\n",
    "maior_numero = float('-inf')\n",
    "\n",
    "for contador in range(5):\n",
    "  numero = float(input(f\"Digite o {contador+1}º número \"))\n",
    "  if  numero > maior_numero:\n",
    "    maior_numero = numero\n",
    "\n",
    "  print(f\"O maior numero digitado é: {maior_numero}\")"
   ]
  },
  {
   "cell_type": "code",
   "execution_count": 7,
   "metadata": {
    "colab": {
     "base_uri": "https://localhost:8080/"
    },
    "executionInfo": {
     "elapsed": 324,
     "status": "ok",
     "timestamp": 1708036445823,
     "user": {
      "displayName": "Alan Diek Guimarães",
      "userId": "14723038698467659112"
     },
     "user_tz": 180
    },
    "id": "jPun_DWI42om",
    "outputId": "14acaba5-ab46-4d4e-cee9-031ebbda5462"
   },
   "outputs": [
    {
     "name": "stdout",
     "output_type": "stream",
     "text": [
      "1003\n",
      "1014\n",
      "1025\n",
      "1036\n",
      "1047\n",
      "1058\n",
      "1069\n",
      "1080\n",
      "1091\n",
      "1102\n",
      "1113\n",
      "1124\n",
      "1135\n",
      "1146\n",
      "1157\n",
      "1168\n",
      "1179\n",
      "1190\n",
      "1201\n",
      "1212\n",
      "1223\n",
      "1234\n",
      "1245\n",
      "1256\n",
      "1267\n",
      "1278\n",
      "1289\n",
      "1300\n",
      "1311\n",
      "1322\n",
      "1333\n",
      "1344\n",
      "1355\n",
      "1366\n",
      "1377\n",
      "1388\n",
      "1399\n",
      "1410\n",
      "1421\n",
      "1432\n",
      "1443\n",
      "1454\n",
      "1465\n",
      "1476\n",
      "1487\n",
      "1498\n",
      "1509\n",
      "1520\n",
      "1531\n",
      "1542\n",
      "1553\n",
      "1564\n",
      "1575\n",
      "1586\n",
      "1597\n",
      "1608\n",
      "1619\n",
      "1630\n",
      "1641\n",
      "1652\n",
      "1663\n",
      "1674\n",
      "1685\n",
      "1696\n",
      "1707\n",
      "1718\n",
      "1729\n",
      "1740\n",
      "1751\n",
      "1762\n",
      "1773\n",
      "1784\n",
      "1795\n",
      "1806\n",
      "1817\n",
      "1828\n",
      "1839\n",
      "1850\n",
      "1861\n",
      "1872\n",
      "1883\n",
      "1894\n",
      "1905\n",
      "1916\n",
      "1927\n",
      "1938\n",
      "1949\n",
      "1960\n",
      "1971\n",
      "1982\n",
      "1993\n"
     ]
    }
   ],
   "source": [
    "# Faça um programa que verifique e mostre os números entre 1.000 e 2.000 (inclusive) que, quando divididos por 11 produzem resto igual a 2.\n",
    "\n",
    "for numero in range(1000,2001):\n",
    "  if numero % 11 == 2:\n",
    "    print(numero)"
   ]
  },
  {
   "cell_type": "code",
   "execution_count": 10,
   "metadata": {
    "colab": {
     "base_uri": "https://localhost:8080/"
    },
    "executionInfo": {
     "elapsed": 2241,
     "status": "ok",
     "timestamp": 1708036936584,
     "user": {
      "displayName": "Alan Diek Guimarães",
      "userId": "14723038698467659112"
     },
     "user_tz": 180
    },
    "id": "oEwVINVQ7kHz",
    "outputId": "615511ec-b425-4a7d-9426-7946546690df"
   },
   "outputs": [
    {
     "name": "stdout",
     "output_type": "stream",
     "text": [
      "Digite um número para ver sua tabuada: 6\n",
      "Tabuada de 6:\n",
      "6 x 1 = 6\n",
      "6 x 2 = 12\n",
      "6 x 3 = 18\n",
      "6 x 4 = 24\n",
      "6 x 5 = 30\n",
      "6 x 6 = 36\n",
      "6 x 7 = 42\n",
      "6 x 8 = 48\n",
      "6 x 9 = 54\n",
      "6 x 10 = 60\n"
     ]
    }
   ],
   "source": [
    "# Ex3. Faça um programa que receba um número e usando laços de repetição calcule e mostre a tabuada desse número.\n",
    "\n",
    "numero = int(input(\"Digite um número para ver sua tabuada: \"))\n",
    "\n",
    "print(f\"Tabuada de {numero}:\")\n",
    "for contador in range(1, 11):\n",
    "    resultado = numero * contador\n",
    "    print(f\"{numero} x {contador} = {resultado}\")"
   ]
  }
 ],
 "metadata": {
  "colab": {
   "authorship_tag": "ABX9TyNrOzgDnZGozxRTlR6Ugz4I",
   "collapsed_sections": [
    "8hVkHbyLg66R",
    "lJhlXT-BdvzQ",
    "dGqIXndzhoBf"
   ],
   "provenance": [],
   "toc_visible": true
  },
  "kernelspec": {
   "display_name": "Python 3 (ipykernel)",
   "language": "python",
   "name": "python3"
  },
  "language_info": {
   "codemirror_mode": {
    "name": "ipython",
    "version": 3
   },
   "file_extension": ".py",
   "mimetype": "text/x-python",
   "name": "python",
   "nbconvert_exporter": "python",
   "pygments_lexer": "ipython3",
   "version": "3.11.7"
  }
 },
 "nbformat": 4,
 "nbformat_minor": 4
}
