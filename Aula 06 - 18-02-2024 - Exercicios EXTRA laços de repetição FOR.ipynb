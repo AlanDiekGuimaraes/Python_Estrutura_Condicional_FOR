{
 "cells": [
  {
   "cell_type": "markdown",
   "metadata": {
    "id": "xQjdVKQy5K0l"
   },
   "source": [
    "1. Faça um programa que receba dois números inteiros e gere os números inteiros que estão no intervalo compreendido por eles."
   ]
  },
  {
   "cell_type": "code",
   "execution_count": null,
   "metadata": {
    "id": "oZavjMvzeetr",
    "ExecuteTime": {
     "start_time": "2024-03-21T23:42:35.216682Z"
    }
   },
   "outputs": [],
   "source": [
    "primeiro_numero = int(input(\"Digite o primeiro número: \"))\n",
    "segundo_numero = int(input(\"Digite o segundo número: \"))\n",
    "\n",
    "if segundo_numero > primeiro_numero:\n",
    "    for intervalo in range(primeiro_numero +1, segundo_numero):\n",
    "        print(intervalo)\n",
    "else:\n",
    "    for intervalo in range(segundo_numero +1, primeiro_numero):\n",
    "        print(intervalo)\n"
   ]
  },
  {
   "cell_type": "markdown",
   "metadata": {
    "id": "ECGHGtqn5K0o"
   },
   "source": [
    "2. Altere o programa anterior para mostrar no final a soma dos números."
   ]
  },
  {
   "cell_type": "code",
   "execution_count": null,
   "metadata": {
    "id": "Jx24iO3S5K0p",
    "outputId": "a202f187-f428-4e95-f0f6-ccf888959f3f"
   },
   "outputs": [
    {
     "name": "stdout",
     "output_type": "stream",
     "text": [
      "3\n",
      "4\n",
      "5\n",
      "A soma do intervalo é: 12\n"
     ]
    }
   ],
   "source": [
    "primeiro_numero = int(input(\"Digite o primeiro número: \"))\n",
    "segundo_numero = int(input(\"Digite o segundo número: \"))\n",
    "soma = 0\n",
    "\n",
    "if segundo_numero > primeiro_numero:\n",
    "    for intervalo in range(primeiro_numero +1, segundo_numero):\n",
    "        soma += intervalo\n",
    "        print(intervalo)\n",
    "    print(f\"A soma do intervalo é: {soma}\")\n",
    "else:\n",
    "    for intervalo in range(segundo_numero +1, primeiro_numero):\n",
    "        soma += intervalo\n",
    "        print(intervalo)\n",
    "    print(f\"A soma do intervalo é: {soma}\")\n"
   ]
  },
  {
   "cell_type": "markdown",
   "metadata": {
    "id": "dHq2t-NU5K0p"
   },
   "source": [
    "3. Faça um programa que peça 10 números inteiros, calcule e mostre a quantidade de números pares e a quantidade de números impares."
   ]
  },
  {
   "cell_type": "code",
   "execution_count": null,
   "metadata": {
    "colab": {
     "base_uri": "https://localhost:8080/"
    },
    "executionInfo": {
     "elapsed": 13307,
     "status": "ok",
     "timestamp": 1708289044110,
     "user": {
      "displayName": "Alan Diek Guimarães",
      "userId": "14723038698467659112"
     },
     "user_tz": 180
    },
    "id": "LPk8T2215K0q",
    "outputId": "0c9b8d2d-3185-4467-e577-6506d9400e02"
   },
   "outputs": [
    {
     "name": "stdout",
     "output_type": "stream",
     "text": [
      "Digite o 1º número 15\n",
      "Digite o 2º número 15\n",
      "Digite o 3º número 15\n",
      "Digite o 4º número 30\n",
      "Digite o 5º número 30\n",
      "Digite o 6º número 30\n",
      "Digite o 7º número 5\n",
      "Digite o 8º número 6\n",
      "Digite o 9º número 5\n",
      "Digite o 10º número 6\n",
      "\n",
      "Números pares: 5\n",
      "impares: 5\n"
     ]
    }
   ],
   "source": [
    "impares = 0\n",
    "pares = 0\n",
    "\n",
    "for contador in range(1,11):\n",
    "  numero =  int(input(f\"Digite o {contador}º número INTEIRO: \"))\n",
    "  if numero % 2 == 1:\n",
    "    impares += 1\n",
    "  else:\n",
    "    pares += 1\n",
    "print(f'''\n",
    "Números pares: {pares}\n",
    "Números impares: {impares}''')\n"
   ]
  },
  {
   "cell_type": "markdown",
   "metadata": {
    "id": "UWIKlgoe9sSG"
   },
   "source": [
    "4. A série de Fibonacci é formada pela sequência 1,1,2,3,5,8,13,21,34,55,... Faça um programa capaz de gerar a série até o enésimo termo."
   ]
  },
  {
   "cell_type": "code",
   "execution_count": 18,
   "metadata": {
    "colab": {
     "base_uri": "https://localhost:8080/"
    },
    "executionInfo": {
     "elapsed": 2572,
     "status": "ok",
     "timestamp": 1708290211888,
     "user": {
      "displayName": "Alan Diek Guimarães",
      "userId": "14723038698467659112"
     },
     "user_tz": 180
    },
    "id": "H-X5qXpw9yIA",
    "outputId": "7ef8b6e0-d66f-4a3c-c5c7-9444d9be3973"
   },
   "outputs": [
    {
     "name": "stdout",
     "output_type": "stream",
     "text": [
      "Digite um valor para criamos a série de Fibonacci: 10\n",
      "FOR\n",
      "1 1 2 3 5 8 13 21 34 55 89 144  \n",
      "WHILE\n",
      "1 1 2 3 5 8 13 21 34 55 89 144 "
     ]
    }
   ],
   "source": [
    "soma = 0\n",
    "primeiro = 1\n",
    "segundo = 1\n",
    "numero =  int(input(\"Digite um valor para criamos a série de Fibonacci: \"))\n",
    "print(\"FOR\")\n",
    "print(primeiro, segundo, end=\" \")\n",
    "for contador in range(1, numero + 1):\n",
    "    soma = primeiro + segundo\n",
    "    primeiro = segundo    \n",
    "    segundo = soma\n",
    "    print(soma, end=\" \")\n",
    "#==========================================\n",
    "print(\" \")\n",
    "print(\"WHILE\")\n",
    "soma = 0\n",
    "primeiro = 1\n",
    "segundo = 1  \n",
    "contador = 0\n",
    "print(primeiro, segundo, end=\" \")\n",
    "while contador < numero:\n",
    "    soma = primeiro + segundo\n",
    "    primeiro = segundo\n",
    "    segundo = soma\n",
    "    contador +=1\n",
    "    print(soma, end=\" \")"
   ]
  },
  {
   "cell_type": "markdown",
   "metadata": {},
   "source": [
    "5. Faça um programa que calcule o fatorial de um número inteiro fornecido pelo usuário. Ex.: 5!=5.4.3.2.1=120"
   ]
  },
  {
   "cell_type": "markdown",
   "metadata": {},
   "source": [
    "6. Faça um programa que peça um número inteiro e determine se ele é ou não um número primo. Um número primo é aquele que é divisível somente por ele mesmo e por 1."
   ]
  },
  {
   "cell_type": "markdown",
   "metadata": {},
   "source": [
    "7. Faça um programa que peça um número inteiro e determine se ele é ou não um número primo, caso o número não seja primo, por quais número ele é divisível."
   ]
  },
  {
   "cell_type": "markdown",
   "metadata": {},
   "source": [
    "8. Faça um programa que peça para n pessoas a sua idade, ao final o programa deverá verificar se a média de idade da turma varia entre 0 e 25,26 e 60 e maior que 60; e então, dizer se a turma é jovem, adulta ou idosa, conforme a média calculada."
   ]
  },
  {
   "cell_type": "markdown",
   "metadata": {},
   "source": [
    "9. Numa eleição existem três candidatos. Faça um programa que peça o número total de eleitores. Peça para cada eleitor votar e ao final mostrar o número de votos de cada candidato."
   ]
  },
  {
   "cell_type": "markdown",
   "metadata": {},
   "source": [
    "10. Faça um programa que leia dez conjuntos de dois valores, o primeiro representando o número do aluno e o segundo representando a sua altura em centímetros. Encontre o aluno mais alto e o mais baixo. Mostre o número do aluno mais alto e o número do aluno mais baixo, junto com suas alturas."
   ]
  },
  {
   "cell_type": "markdown",
   "metadata": {},
   "source": [
    "11. Foi feita uma estatística em cinco cidades brasileiras para coletar dados sobre acidentes de trânsito. Foram obtidos os seguintes dados:\n",
    "\n",
    "    Código da cidade;\n",
    "\n",
    "    Número de veículos de passeio (em 1999);\n",
    "\n",
    "    Número de acidentes de trânsito com vítimas (em 1999).\n",
    "    Deseja-se saber:\n",
    "\n",
    "    Qual o maior e menor índice de acidentes de trânsito e a que cidade pertence;\n",
    "\n",
    "    Qual a média de veículos nas cinco cidades juntas;\n",
    "    \n",
    "    Qual a média de acidentes de trânsito nas cidades com menos de 2.000 veículos de passeio."
   ]
  }
 ],
 "metadata": {
  "colab": {
   "provenance": []
  },
  "kernelspec": {
   "display_name": "Python 3 (ipykernel)",
   "language": "python",
   "name": "python3"
  },
  "language_info": {
   "codemirror_mode": {
    "name": "ipython",
    "version": 3
   },
   "file_extension": ".py",
   "mimetype": "text/x-python",
   "name": "python",
   "nbconvert_exporter": "python",
   "pygments_lexer": "ipython3",
   "version": "3.11.7"
  }
 },
 "nbformat": 4,
 "nbformat_minor": 4
}
